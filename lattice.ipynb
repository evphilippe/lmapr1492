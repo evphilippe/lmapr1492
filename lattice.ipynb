{
 "cells": [
  {
   "cell_type": "code",
   "execution_count": 17,
   "metadata": {},
   "outputs": [],
   "source": [
    "#Téléchargement du fichier cif\n",
    "from pymatgen.ext.matproj import MPRester\n",
    "from pymatgen.io.cif import CifWriter\n",
    "with MPRester(\"C4nt6T26tvgn1yzutzRU\") as m:\n",
    "    structure = m.get_structure_by_material_id(\"mp-11601\")\n",
    "    w = CifWriter(structure)\n",
    "    w.write_file('mp-11601.cif')"
   ]
  },
  {
   "cell_type": "code",
   "execution_count": 24,
   "metadata": {},
   "outputs": [
    {
     "name": "stdout",
     "output_type": "stream",
     "text": [
      "Etude du NaErO2\n",
      "les vecteurs de bases du réseau direct sont : (5.904786077457845, 5.904786077952033, 5.904786075882362)\n",
      "les vecteurs de bases du réseau réciproque sont : (2.173785968367267, 2.1737859693851016, 2.1737859698858393)\n",
      "le type de maille est : rhombohedral\n",
      "le système cristallin est: trigonal\n",
      "le groupe ponctuel est: -3m\n"
     ]
    }
   ],
   "source": [
    "#déterminer les vecteurs de bases des ses réseaux direct et réciproque, son type de maille, \n",
    "#son système cristallin, ainsi que son groupe ponctuel\n",
    "from pymatgen.symmetry.analyzer import SpacegroupAnalyzer\n",
    "s = SpacegroupAnalyzer(structure)\n",
    "\n",
    "vecteurs = structure.lattice.abc\n",
    "vecteurs_reciproques = structure.lattice.reciprocal_lattice.abc\n",
    "type_de_maille = s.get_lattice_type()\n",
    "systeme_cristallin = s.get_crystal_system()\n",
    "groupe_ponctuel = s.get_point_group_symbol()\n",
    "\n",
    "print(\"Etude du NaErO2\")\n",
    "print(\"les vecteurs de bases du réseau direct sont :\",vecteurs)\n",
    "print(\"les vecteurs de bases du réseau réciproque sont :\",vecteurs_reciproques)\n",
    "print(\"le type de maille est :\",type_de_maille)\n",
    "print(\"le système cristallin est:\",systeme_cristallin)\n",
    "print(\"le groupe ponctuel est:\",groupe_ponctuel)"
   ]
  },
  {
   "cell_type": "code",
   "execution_count": null,
   "metadata": {},
   "outputs": [],
   "source": []
  }
 ],
 "metadata": {
  "kernelspec": {
   "display_name": "Python 3",
   "language": "python",
   "name": "python3"
  },
  "language_info": {
   "codemirror_mode": {
    "name": "ipython",
    "version": 3
   },
   "file_extension": ".py",
   "mimetype": "text/x-python",
   "name": "python",
   "nbconvert_exporter": "python",
   "pygments_lexer": "ipython3",
   "version": "3.6.8"
  }
 },
 "nbformat": 4,
 "nbformat_minor": 2
}
